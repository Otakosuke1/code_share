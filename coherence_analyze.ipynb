{
 "cells": [
  {
   "cell_type": "code",
   "execution_count": null,
   "metadata": {},
   "outputs": [],
   "source": [
    "correlations_A = young_df['coherence'] #young_df['coherence']には、若年群の各筋ペアのコヒーレンスの値が入っている\n",
    "correlations_B = old_df['coherence'] #old_df['coherence']には、若年群の各筋ペアのコヒーレンスの値が入っている\n",
    "\n",
    "# Fisherのz変換\n",
    "z_A = 0.5 * np.log((1 + np.array(correlations_A)) / (1 - np.array(correlations_A)))\n",
    "z_B = 0.5 * np.log((1 + np.array(correlations_B)) / (1 - np.array(correlations_B)))\n",
    "\n",
    "# 平均z値\n",
    "mean_z_A = np.mean(z_A)\n",
    "mean_z_B = np.mean(z_B)\n",
    "\n",
    "# サンプルサイズ\n",
    "n_A = len(correlations_A)\n",
    "n_B = len(correlations_B)\n",
    "\n",
    "# 標準誤差\n",
    "SE = np.sqrt(1/(n_A - 3) + 1/(n_B - 3))\n",
    "\n",
    "# zスコア\n",
    "z = (mean_z_A - mean_z_B) / SE\n",
    "\n",
    "# p値\n",
    "p_value = 2 * (1 - norm.cdf(np.abs(z)))"
   ]
  }
 ],
 "metadata": {
  "language_info": {
   "name": "python"
  }
 },
 "nbformat": 4,
 "nbformat_minor": 2
}
